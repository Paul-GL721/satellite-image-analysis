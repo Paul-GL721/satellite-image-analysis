{
 "cells": [
  {
   "cell_type": "markdown",
   "id": "92bbfa7d",
   "metadata": {},
   "source": [
    "# Types of Numbers"
   ]
  },
  {
   "cell_type": "markdown",
   "id": "5a522de4",
   "metadata": {},
   "source": [
    "### a. Plain Integers "
   ]
  },
  {
   "cell_type": "markdown",
   "id": "fcb5ff78",
   "metadata": {},
   "source": [
    "Whole numbers are know as integers or `ints` (in math/computer science) and consist of 32 binary digits extending from -2^31 (-2147483648) to 2^31 (2147483647).\n",
    "Python automatically treats a number as an integer if it is written without a decimal point and is within the bounds stated above. \n",
    "\n",
    "If the number is beyond the given bounds, it is known as a **long integer** and designaed as such by an L symbol. \n",
    "\n",
    "When operating on existing integers, which produce other whole numbers, the answer should also be an integer. "
   ]
  },
  {
   "cell_type": "code",
   "execution_count": 1,
   "id": "7fa4856f",
   "metadata": {},
   "outputs": [
    {
     "data": {
      "text/plain": [
       "42"
      ]
     },
     "execution_count": 1,
     "metadata": {},
     "output_type": "execute_result"
    }
   ],
   "source": [
    "14*3"
   ]
  },
  {
   "cell_type": "code",
   "execution_count": 2,
   "id": "c16e6a49",
   "metadata": {},
   "outputs": [
    {
     "data": {
      "text/plain": [
       "-175"
      ]
     },
     "execution_count": 2,
     "metadata": {},
     "output_type": "execute_result"
    }
   ],
   "source": [
    "5+6*4-(34*6)"
   ]
  },
  {
   "cell_type": "markdown",
   "id": "a4add5db",
   "metadata": {},
   "source": [
    "We are also able to convert numbers to integers, so for example we can use the 'int()' function.\n",
    "\n",
    "Try to convert 2.000 into an integer using the int() function.\n",
    "\n",
    "Have a go below:"
   ]
  },
  {
   "cell_type": "code",
   "execution_count": 3,
   "id": "2696269e",
   "metadata": {},
   "outputs": [
    {
     "data": {
      "text/plain": [
       "3"
      ]
     },
     "execution_count": 3,
     "metadata": {},
     "output_type": "execute_result"
    }
   ],
   "source": [
    "#Enter your attempt below:\n",
    "int(3.14)"
   ]
  },
  {
   "cell_type": "markdown",
   "id": "21364ee1",
   "metadata": {},
   "source": [
    "### b. Floating Points"
   ]
  },
  {
   "cell_type": "markdown",
   "id": "e31ee564",
   "metadata": {},
   "source": [
    "Floats (as they are known) rational numbers and may have fractional part.\n",
    "\n",
    "They range between ±2*10^-308 to ±2*10^308.\n",
    "\n",
    "They are written in python by introducing a period punctuation mark at the end of the integer to indicate a decimal.\n",
    "\n",
    "So, pi (3.14) written in full notation should produce a float.  \n",
    "\n",
    "Have a go below:"
   ]
  },
  {
   "cell_type": "code",
   "execution_count": 5,
   "id": "2265cd23",
   "metadata": {},
   "outputs": [
    {
     "data": {
      "text/plain": [
       "3.14"
      ]
     },
     "execution_count": 5,
     "metadata": {},
     "output_type": "execute_result"
    }
   ],
   "source": [
    "#Enter your attempt below:\n",
    "3.14"
   ]
  },
  {
   "cell_type": "code",
   "execution_count": 6,
   "id": "4b2411c6",
   "metadata": {},
   "outputs": [
    {
     "data": {
      "text/plain": [
       "1.0"
      ]
     },
     "execution_count": 6,
     "metadata": {},
     "output_type": "execute_result"
    }
   ],
   "source": [
    "# We can also transform an int to a float using the float() function\n",
    "float(1)"
   ]
  },
  {
   "cell_type": "code",
   "execution_count": 8,
   "id": "83dc276f",
   "metadata": {},
   "outputs": [
    {
     "data": {
      "text/plain": [
       "1"
      ]
     },
     "execution_count": 8,
     "metadata": {},
     "output_type": "execute_result"
    }
   ],
   "source": [
    "# And then change it back:\n",
    "int(1.1)"
   ]
  },
  {
   "cell_type": "markdown",
   "id": "dcf11f9a",
   "metadata": {},
   "source": [
    "We can actually find out the type of a number using python's inbuilt function, **type**.\n",
    "\n",
    "As this is a function, e.g., type(), you need to place the number or variable you want to query in the function brackets/parentheses. \n",
    "\n",
    "Have a go below:"
   ]
  },
  {
   "cell_type": "code",
   "execution_count": 11,
   "id": "cc475ea7",
   "metadata": {},
   "outputs": [
    {
     "data": {
      "text/plain": [
       "int"
      ]
     },
     "execution_count": 11,
     "metadata": {},
     "output_type": "execute_result"
    }
   ],
   "source": [
    "#Enter your attempt below:\n",
    "my_float = 1\n",
    "type(my_float)"
   ]
  },
  {
   "cell_type": "markdown",
   "id": "8b52581a",
   "metadata": {},
   "source": [
    "<div class=\"alert alert-block alert-info\">\n",
    "    \n",
    "<b>Note:</b> The result of any operation involving floating numbers as input is a floating number. \n",
    "\n",
    "</div>"
   ]
  },
  {
   "cell_type": "markdown",
   "id": "d5b26751",
   "metadata": {},
   "source": [
    "## Exercise 2\n",
    "\n",
    "Work through the following tasks and have a go at obtaining the answers. "
   ]
  },
  {
   "cell_type": "markdown",
   "id": "dfe4e23f",
   "metadata": {},
   "source": [
    "We are also able to convert numbers to integers, so for example we can use the 'int()' function.\n",
    "\n",
    "Try to convert 2.000 into an integer using the int() function."
   ]
  },
  {
   "cell_type": "code",
   "execution_count": 3,
   "id": "400b8775",
   "metadata": {},
   "outputs": [
    {
     "name": "stdout",
     "output_type": "stream",
     "text": [
      "The new number is 2, of type <class 'int'>\n"
     ]
    }
   ],
   "source": [
    "#Enter your attempt below:\n",
    "decimal_number = 2.000\n",
    "int_number = int(decimal_number)\n",
    "no_type = type(int_number)\n",
    "print(f'The new number is {int_number}, of type {no_type}')"
   ]
  },
  {
   "cell_type": "markdown",
   "id": "cd67575d",
   "metadata": {},
   "source": [
    "Now try to convert 3.14 into an integer using the int() function and inspect what happens. \n",
    "\n",
    "Try to explain why this functionality resulted."
   ]
  },
  {
   "cell_type": "code",
   "execution_count": 7,
   "id": "7c7934fb",
   "metadata": {},
   "outputs": [
    {
     "data": {
      "text/plain": [
       "3"
      ]
     },
     "execution_count": 7,
     "metadata": {},
     "output_type": "execute_result"
    }
   ],
   "source": [
    "#Enter your attempt below:\n",
    "original_float = 3.84\n",
    "convert_int = int(original_float)\n",
    "convert_int"
   ]
  },
  {
   "cell_type": "markdown",
   "id": "a4f2382f-f0b3-4f35-9178-8dd9da725ab3",
   "metadata": {},
   "source": [
    "In the code above the python built-in function \"int\" is used to convert the decimal number (float) 3.14 to a whole number. The function rounds down 3.14 to 3 which is the nearest whole number."
   ]
  }
 ],
 "metadata": {
  "kernelspec": {
   "display_name": "Python 3 (ipykernel)",
   "language": "python",
   "name": "python3"
  },
  "language_info": {
   "codemirror_mode": {
    "name": "ipython",
    "version": 3
   },
   "file_extension": ".py",
   "mimetype": "text/x-python",
   "name": "python",
   "nbconvert_exporter": "python",
   "pygments_lexer": "ipython3",
   "version": "3.12.8"
  }
 },
 "nbformat": 4,
 "nbformat_minor": 5
}
