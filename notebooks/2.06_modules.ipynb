{
 "cells": [
  {
   "cell_type": "markdown",
   "id": "a35d2303",
   "metadata": {},
   "source": [
    "# Python Modules"
   ]
  },
  {
   "cell_type": "markdown",
   "id": "717a099e",
   "metadata": {},
   "source": [
    "The Python consists of a “core” language and a collection of supplementary software that is contained in **modules** known as **libraries**.\n",
    "\n",
    "- Many of these libraries come with the standard Python distribution such as anaconda and provide added functionality for performing computer system tasks.\n",
    "- Libraries may be needed for additional specific functions. Examples include Numpy (for scientific computing), math (for arithmetic functions), matplotlib (for plotting) etc.\n",
    "- Libraries have several functions that one can use just like borrowing a specific book from the Fenwick Library. \n",
    "\n",
    "To use, you must import into the current python environment. There are several ways to do that. However, in GGS416 it is recommended you use the **import** statement.\n",
    "\n",
    "For instance using square root (sqrt) function of numpy library to calculate the square root of 25 can be performed as follows. \n",
    "\n",
    "First of all, we may need to install `numpy` into our current environment, if it is not already available."
   ]
  },
  {
   "cell_type": "code",
   "execution_count": 1,
   "id": "cb3545a5",
   "metadata": {},
   "outputs": [
    {
     "name": "stdout",
     "output_type": "stream",
     "text": [
      "Collecting package metadata (current_repodata.json): ...working... done\n",
      "Solving environment: ...working... done\n",
      "\n",
      "## Package Plan ##\n",
      "\n",
      "  environment location: D:\\Anaconda\\envs\\sia\n",
      "\n",
      "  added / updated specs:\n",
      "    - numpy\n",
      "\n",
      "\n",
      "The following NEW packages will be INSTALLED:\n",
      "\n",
      "  blas               pkgs/main/win-64::blas-1.0-mkl None\n",
      "  intel-openmp       pkgs/main/win-64::intel-openmp-2021.4.0-haa95532_3556 None\n",
      "  mkl                pkgs/main/win-64::mkl-2021.4.0-haa95532_640 None\n",
      "  mkl-service        pkgs/main/win-64::mkl-service-2.4.0-py39h2bbff1b_0 None\n",
      "  mkl_fft            pkgs/main/win-64::mkl_fft-1.3.1-py39h277e83a_0 None\n",
      "  mkl_random         pkgs/main/win-64::mkl_random-1.2.2-py39hf11a4ad_0 None\n",
      "  numpy              pkgs/main/win-64::numpy-1.23.5-py39h3b20f71_0 None\n",
      "  numpy-base         pkgs/main/win-64::numpy-base-1.23.5-py39h4da318b_0 None\n",
      "\n",
      "\n",
      "Preparing transaction: ...working... done\n",
      "Verifying transaction: ...working... done\n",
      "Executing transaction: ...working... done\n",
      "Retrieving notices: ...working... done\n"
     ]
    },
    {
     "name": "stderr",
     "output_type": "stream",
     "text": [
      "\n",
      "\n",
      "==> WARNING: A newer version of conda exists. <==\n",
      "  current version: 22.9.0\n",
      "  latest version: 23.3.1\n",
      "\n",
      "Please update conda by running\n",
      "\n",
      "    $ conda update -n base -c defaults conda\n",
      "\n",
      "\n"
     ]
    }
   ],
   "source": [
    "import sys\n",
    "!conda install --yes --prefix {sys.prefix} numpy"
   ]
  },
  {
   "cell_type": "markdown",
   "id": "d64451a5",
   "metadata": {},
   "source": [
    "Then we can import the package and get started with the `sqrt()` function."
   ]
  },
  {
   "cell_type": "code",
   "execution_count": 2,
   "id": "916c4846",
   "metadata": {},
   "outputs": [
    {
     "data": {
      "text/plain": [
       "5.0"
      ]
     },
     "execution_count": 2,
     "metadata": {},
     "output_type": "execute_result"
    }
   ],
   "source": [
    "import numpy\n",
    "numpy.sqrt(25)"
   ]
  },
  {
   "cell_type": "code",
   "execution_count": 2,
   "id": "dca7986c",
   "metadata": {},
   "outputs": [
    {
     "data": {
      "text/plain": [
       "5.0"
      ]
     },
     "execution_count": 2,
     "metadata": {},
     "output_type": "execute_result"
    }
   ],
   "source": [
    "from numpy import sqrt\n",
    "sqrt(25)"
   ]
  },
  {
   "cell_type": "markdown",
   "id": "3d2bb19e",
   "metadata": {},
   "source": [
    "However, writing the library name in full may be monotonous.\n",
    "\n",
    "Consequently, the library name can be shortened using any desired short-hand form by the user. However, there are generally accepted short-hand forms for python programming such np for numpy, `plt` for `matplotlib` etc. \n",
    "\n",
    "For example, see the abbreviated numpy term `np` below:"
   ]
  },
  {
   "cell_type": "code",
   "execution_count": 3,
   "id": "c5c5d968",
   "metadata": {},
   "outputs": [
    {
     "data": {
      "text/plain": [
       "5.0"
      ]
     },
     "execution_count": 3,
     "metadata": {},
     "output_type": "execute_result"
    }
   ],
   "source": [
    "import numpy as np\n",
    "np.sqrt(25)"
   ]
  },
  {
   "cell_type": "markdown",
   "id": "19cb2635",
   "metadata": {},
   "source": [
    "More specifically, a subset of functions can also be imported from a module without importing the entire module. \n",
    "\n",
    "For instance, if you want to import just the *sin* function from numpy, you can write as follows (and you won't need to write numpy.sin() because you have imported the function globally into the notebook):"
   ]
  },
  {
   "cell_type": "code",
   "execution_count": 5,
   "id": "cc37e953",
   "metadata": {},
   "outputs": [
    {
     "data": {
      "text/plain": [
       "-0.9880316240928618"
      ]
     },
     "execution_count": 5,
     "metadata": {},
     "output_type": "execute_result"
    }
   ],
   "source": [
    "from numpy import sin\n",
    "sin(30)"
   ]
  },
  {
   "cell_type": "markdown",
   "id": "23ae7b13",
   "metadata": {},
   "source": [
    "You can also import multiple functions as shown below;"
   ]
  },
  {
   "cell_type": "code",
   "execution_count": 21,
   "id": "235d4c08",
   "metadata": {},
   "outputs": [
    {
     "data": {
      "text/plain": [
       "-1.995200412208242"
      ]
     },
     "execution_count": 21,
     "metadata": {},
     "output_type": "execute_result"
    }
   ],
   "source": [
    "from numpy import sin, cos, tan\n",
    "tan(90)"
   ]
  },
  {
   "cell_type": "markdown",
   "id": "8d5dacce",
   "metadata": {},
   "source": [
    "# Exercise\n",
    "\n",
    "Import the numpy module and use the `sum()` function to add [1 + 1]. "
   ]
  },
  {
   "cell_type": "code",
   "execution_count": 4,
   "id": "c1f55665",
   "metadata": {},
   "outputs": [
    {
     "data": {
      "text/plain": [
       "np.int64(2)"
      ]
     },
     "execution_count": 4,
     "metadata": {},
     "output_type": "execute_result"
    }
   ],
   "source": [
    "#sum with numpy:\n",
    "import numpy as np\n",
    "summed_number = np.sum([1+1])\n",
    "summed_number"
   ]
  },
  {
   "cell_type": "markdown",
   "id": "2b11a397",
   "metadata": {},
   "source": [
    "Import the numpy module and use the `absolute()` function to get the absolute value of -5.1. "
   ]
  },
  {
   "cell_type": "code",
   "execution_count": 5,
   "id": "ce3438a5",
   "metadata": {},
   "outputs": [
    {
     "data": {
      "text/plain": [
       "array([5.1])"
      ]
     },
     "execution_count": 5,
     "metadata": {},
     "output_type": "execute_result"
    }
   ],
   "source": [
    "#absolute with numpy:\n",
    "absolute_number = np.abs([-5.1])\n",
    "absolute_number"
   ]
  },
  {
   "cell_type": "markdown",
   "id": "28c2cdf8",
   "metadata": {},
   "source": [
    "Import the math module and use the `floor()` function to get the floor value of pi (3.14). Think about how this function might be usefully used. "
   ]
  },
  {
   "cell_type": "code",
   "execution_count": 7,
   "id": "7143da8c",
   "metadata": {},
   "outputs": [
    {
     "data": {
      "text/plain": [
       "3"
      ]
     },
     "execution_count": 7,
     "metadata": {},
     "output_type": "execute_result"
    }
   ],
   "source": [
    "#using the math module:\n",
    "from math import floor\n",
    "pi_value = 3.14\n",
    "pi_floor_value = floor(pi_value)\n",
    "pi_floor_value"
   ]
  },
  {
   "cell_type": "markdown",
   "id": "79da2b98",
   "metadata": {},
   "source": [
    "Import the math module and use the `ceil()` function to get the ceiling value of pi (3.14). Think about how this function might be usefully used. "
   ]
  },
  {
   "cell_type": "code",
   "execution_count": 8,
   "id": "2cc7ba72",
   "metadata": {},
   "outputs": [
    {
     "data": {
      "text/plain": [
       "4"
      ]
     },
     "execution_count": 8,
     "metadata": {},
     "output_type": "execute_result"
    }
   ],
   "source": [
    "#ceiling from math value:\n",
    "from math import ceil\n",
    "pi_ceiling = ceil(pi_value)\n",
    "pi_ceiling"
   ]
  },
  {
   "cell_type": "markdown",
   "id": "301b168d",
   "metadata": {},
   "source": [
    "Import the math module and use the `isnan()` function for the following (nan stands for 'Not a Number'):\n",
    "\n",
    "- 7\n",
    "- float(\"nan\")\n",
    "- math.nan\n",
    "\n",
    "Think about how this function might be usefully used."
   ]
  },
  {
   "cell_type": "code",
   "execution_count": 10,
   "id": "6c240ce5",
   "metadata": {},
   "outputs": [
    {
     "data": {
      "text/plain": [
       "(False, True, True)"
      ]
     },
     "execution_count": 10,
     "metadata": {},
     "output_type": "execute_result"
    }
   ],
   "source": [
    "#using isnan() in the math module:\n",
    "import math \n",
    "seven_isnan = math.isnan(7)\n",
    "float_isnan = isnan(float(\"nan\"))\n",
    "math_isnan = isnan(math.nan)\n",
    "seven_isnan, float_isnan, math_isnan"
   ]
  },
  {
   "cell_type": "code",
   "execution_count": null,
   "id": "e8b4b413-0008-45f0-8812-57eec2e24cf5",
   "metadata": {},
   "outputs": [],
   "source": []
  }
 ],
 "metadata": {
  "kernelspec": {
   "display_name": "Python 3 (ipykernel)",
   "language": "python",
   "name": "python3"
  },
  "language_info": {
   "codemirror_mode": {
    "name": "ipython",
    "version": 3
   },
   "file_extension": ".py",
   "mimetype": "text/x-python",
   "name": "python",
   "nbconvert_exporter": "python",
   "pygments_lexer": "ipython3",
   "version": "3.12.8"
  }
 },
 "nbformat": 4,
 "nbformat_minor": 5
}
