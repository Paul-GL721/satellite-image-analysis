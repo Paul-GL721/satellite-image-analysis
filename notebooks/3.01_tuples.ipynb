{
 "cells": [
  {
   "cell_type": "markdown",
   "id": "35f602fd",
   "metadata": {},
   "source": [
    "## Tuples"
   ]
  },
  {
   "cell_type": "markdown",
   "id": "ee94b8e4",
   "metadata": {},
   "source": [
    "Tuples are lists which are immutable (their individual elements cannot be changed).\n",
    "\n",
    "They are defined by their parentheses e.g. `my_tuple = (0, 1, 2, 3)`\n",
    "\n",
    "This contrasts with lists which use square brackets, e.g. [], or dictionaries which use curly brackets e.g. {}.\n",
    "\n",
    "The individual elements can be accessed in similar manner as lists."
   ]
  },
  {
   "cell_type": "code",
   "execution_count": 1,
   "id": "ab413d76",
   "metadata": {},
   "outputs": [
    {
     "data": {
      "text/plain": [
       "(10, 20, 30, 40, 50, 60)"
      ]
     },
     "execution_count": 1,
     "metadata": {},
     "output_type": "execute_result"
    }
   ],
   "source": [
    "c = (10,20,30,40,50,60)\n",
    "c"
   ]
  },
  {
   "cell_type": "code",
   "execution_count": 2,
   "id": "0cbc91df",
   "metadata": {},
   "outputs": [
    {
     "data": {
      "text/plain": [
       "40"
      ]
     },
     "execution_count": 2,
     "metadata": {},
     "output_type": "execute_result"
    }
   ],
   "source": [
    "# Let's index the value at position 3 (remember zero indexing):\n",
    "c[3]"
   ]
  },
  {
   "cell_type": "markdown",
   "id": "5a1dcddd",
   "metadata": {},
   "source": [
    "Let's try changing an element of a tuple. "
   ]
  },
  {
   "cell_type": "code",
   "execution_count": 3,
   "id": "c731290e",
   "metadata": {},
   "outputs": [
    {
     "ename": "TypeError",
     "evalue": "'tuple' object does not support item assignment",
     "output_type": "error",
     "traceback": [
      "\u001b[1;31m---------------------------------------------------------------------------\u001b[0m",
      "\u001b[1;31mTypeError\u001b[0m                                 Traceback (most recent call last)",
      "Cell \u001b[1;32mIn[3], line 3\u001b[0m\n\u001b[0;32m      1\u001b[0m \u001b[38;5;66;03m# Remember tuples are immutable though, so you can't change their \u001b[39;00m\n\u001b[0;32m      2\u001b[0m \u001b[38;5;66;03m# contents like this!\u001b[39;00m\n\u001b[1;32m----> 3\u001b[0m c[\u001b[38;5;241m4\u001b[39m] \u001b[38;5;241m=\u001b[39m \u001b[38;5;241m100\u001b[39m\n\u001b[0;32m      4\u001b[0m c\n",
      "\u001b[1;31mTypeError\u001b[0m: 'tuple' object does not support item assignment"
     ]
    }
   ],
   "source": [
    "# Remember tuples are immutable though, so you can't change their \n",
    "# contents like this!\n",
    "c[4] = 100\n",
    "c"
   ]
  },
  {
   "cell_type": "markdown",
   "id": "e32a0267",
   "metadata": {},
   "source": [
    "A really useful characteristic of tuples is that you can unpack them to individual variables:"
   ]
  },
  {
   "cell_type": "code",
   "execution_count": 4,
   "id": "11e7e9b5",
   "metadata": {},
   "outputs": [
    {
     "data": {
      "text/plain": [
       "(10, 20, 30)"
      ]
     },
     "execution_count": 4,
     "metadata": {},
     "output_type": "execute_result"
    }
   ],
   "source": [
    "# Example: So for our tuple c, we can unpack the elements individually \n",
    "# to x, y, z:\n",
    "\n",
    "c = (10, 20, 30)\n",
    "\n",
    "x, y, z = c\n",
    "x, y, z"
   ]
  },
  {
   "cell_type": "markdown",
   "id": "73cb2964",
   "metadata": {},
   "source": [
    "## Exercise\n",
    "\n",
    "Let us now recap on tuples.\n",
    "\n",
    "Create a tuple with the numbers 6, 7, 8 called `my_tuple`.\n"
   ]
  },
  {
   "cell_type": "code",
   "execution_count": 1,
   "id": "9e06b8a9",
   "metadata": {},
   "outputs": [
    {
     "data": {
      "text/plain": [
       "(6, 7, 8)"
      ]
     },
     "execution_count": 1,
     "metadata": {},
     "output_type": "execute_result"
    }
   ],
   "source": [
    "# create a tuple\n",
    "my_tuple = (6,7,8)\n",
    "my_tuple"
   ]
  },
  {
   "cell_type": "markdown",
   "id": "234490d1",
   "metadata": {},
   "source": [
    "Index the number `7` and allocate it to a variable `my_item1`. Remember zero indexing ;]"
   ]
  },
  {
   "cell_type": "code",
   "execution_count": 2,
   "id": "9b62dc08",
   "metadata": {},
   "outputs": [
    {
     "data": {
      "text/plain": [
       "7"
      ]
     },
     "execution_count": 2,
     "metadata": {},
     "output_type": "execute_result"
    }
   ],
   "source": [
    "# get tuple values\n",
    "my_item1 = my_tuple[1]\n",
    "my_item1"
   ]
  },
  {
   "cell_type": "markdown",
   "id": "9fbc5f66",
   "metadata": {},
   "source": [
    "Index the number `6` and allocate it to a variable `my_item2`. "
   ]
  },
  {
   "cell_type": "code",
   "execution_count": 3,
   "id": "cd8c6c98",
   "metadata": {},
   "outputs": [
    {
     "data": {
      "text/plain": [
       "6"
      ]
     },
     "execution_count": 3,
     "metadata": {},
     "output_type": "execute_result"
    }
   ],
   "source": [
    "#get tuple values\n",
    "my_item2 = my_tuple[0]\n",
    "my_item2"
   ]
  },
  {
   "cell_type": "markdown",
   "id": "355d760e",
   "metadata": {},
   "source": [
    "Create a new tuple called `my_new_tuple` using the items in index location 1 and 2 in `my_tuple`:"
   ]
  },
  {
   "cell_type": "code",
   "execution_count": 5,
   "id": "706cdfd1",
   "metadata": {},
   "outputs": [
    {
     "data": {
      "text/plain": [
       "(7, 8)"
      ]
     },
     "execution_count": 5,
     "metadata": {},
     "output_type": "execute_result"
    }
   ],
   "source": [
    "# create new tuple\n",
    "my_new_tuple = (my_tuple[1], my_tuple[2])\n",
    "my_new_tuple"
   ]
  },
  {
   "cell_type": "markdown",
   "id": "49db727d",
   "metadata": {},
   "source": [
    "Using a single line, unpack all items in our tuple to the variables `var1`, `var2`, `var3`:"
   ]
  },
  {
   "cell_type": "code",
   "execution_count": 6,
   "id": "6393f2d4",
   "metadata": {},
   "outputs": [
    {
     "data": {
      "text/plain": [
       "(7, 8)"
      ]
     },
     "execution_count": 6,
     "metadata": {},
     "output_type": "execute_result"
    }
   ],
   "source": [
    "# unpack tuple\n",
    "var1, var2 = my_new_tuple\n",
    "var1, var2"
   ]
  },
  {
   "cell_type": "code",
   "execution_count": null,
   "id": "5d16abc8-0619-4ea5-9228-8ae4473acd3e",
   "metadata": {},
   "outputs": [],
   "source": []
  }
 ],
 "metadata": {
  "kernelspec": {
   "display_name": "Python 3 (ipykernel)",
   "language": "python",
   "name": "python3"
  },
  "language_info": {
   "codemirror_mode": {
    "name": "ipython",
    "version": 3
   },
   "file_extension": ".py",
   "mimetype": "text/x-python",
   "name": "python",
   "nbconvert_exporter": "python",
   "pygments_lexer": "ipython3",
   "version": "3.12.8"
  }
 },
 "nbformat": 4,
 "nbformat_minor": 5
}
