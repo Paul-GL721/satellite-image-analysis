{
 "cells": [
  {
   "cell_type": "markdown",
   "id": "b6d0799a",
   "metadata": {},
   "source": [
    "## Dictionaries"
   ]
  },
  {
   "cell_type": "markdown",
   "id": "38514ef1",
   "metadata": {},
   "source": [
    "Unlike lists where square brackets are used (e.g., `[]`), or tuples where round brackets are used (e.g., `()`), dictionaries use curly brackets e.g., `{ }`. \n",
    "\n",
    "Whereas lists have an inherent order, dictionaries have no order. In fact, python guarantees no repeatable order. This is because the data structure is indexed using keys, not numbers. \n",
    "\n",
    "*A Python list is a collection of Python objects indexed by an ordered sequence of integers\n",
    "starting from zero. A dictionary is also a collection of Python objects, just like a list,\n",
    "but one that is indexed by strings or numbers (not necessarily integers and not in any\n",
    "particular order) or even tuples!*, (Pine, 2013).\n",
    "\n",
    "Dicts have a very specific structure inside the curly brackets, based on key-value pairs. They have this name as each pair has a key and a value separated by a colon. See the `my_dict` example below: "
   ]
  },
  {
   "cell_type": "code",
   "execution_count": 1,
   "id": "91c2f19c",
   "metadata": {},
   "outputs": [
    {
     "data": {
      "text/plain": [
       "{'my_key': 'my_value'}"
      ]
     },
     "execution_count": 1,
     "metadata": {},
     "output_type": "execute_result"
    }
   ],
   "source": [
    "my_dict = {\n",
    "# 'key' : 'value',\n",
    "'my_key': 'my_value',\n",
    "}\n",
    "my_dict"
   ]
  },
  {
   "cell_type": "markdown",
   "id": "d583ee2f",
   "metadata": {},
   "source": [
    "Dicts can actually hold any data types, even other lists or dicts. "
   ]
  },
  {
   "cell_type": "code",
   "execution_count": 2,
   "id": "1447a114",
   "metadata": {},
   "outputs": [
    {
     "data": {
      "text/plain": [
       "{'my_key': 6, 'my_second_key': (0, 1, 2, 3)}"
      ]
     },
     "execution_count": 2,
     "metadata": {},
     "output_type": "execute_result"
    }
   ],
   "source": [
    "my_dict = {\n",
    "'my_key': 6,\n",
    "'my_second_key': (0, 1, 2, 3),\n",
    "}\n",
    "my_dict"
   ]
  },
  {
   "cell_type": "markdown",
   "id": "1ad14cbb",
   "metadata": {},
   "source": [
    "Example: Let us create a dictionary containing Remote Sensing satellite mission information with year of launch, ownership and orbital inclination.\n",
    "\n",
    "We first need to create out empty dictionary:"
   ]
  },
  {
   "cell_type": "code",
   "execution_count": 3,
   "id": "2294d563",
   "metadata": {},
   "outputs": [
    {
     "data": {
      "text/plain": [
       "{}"
      ]
     },
     "execution_count": 3,
     "metadata": {},
     "output_type": "execute_result"
    }
   ],
   "source": [
    "# Example\n",
    "satellites = {} # This is our empty dict!\n",
    "satellites # As demonstrated when printed!"
   ]
  },
  {
   "cell_type": "code",
   "execution_count": 4,
   "id": "d1823cdc",
   "metadata": {},
   "outputs": [
    {
     "data": {
      "text/plain": [
       "{'mission': 'LandSat', 'launch_year': 1972, 'orbital_inclination': 99.2}"
      ]
     },
     "execution_count": 4,
     "metadata": {},
     "output_type": "execute_result"
    }
   ],
   "source": [
    "# Example\n",
    "# Let's populate our dictionary.\n",
    "satellites['mission'] = 'LandSat' \n",
    "satellites['launch_year'] = 1972\n",
    "satellites['orbital_inclination'] = 99.2\n",
    "satellites"
   ]
  },
  {
   "cell_type": "markdown",
   "id": "43c07b6c",
   "metadata": {},
   "source": [
    "The real strength of dicts comes when you want to index into them to grab information from the key-value pairs. \n",
    "\n",
    "For example, we can access the mission name from the dict as follows:"
   ]
  },
  {
   "cell_type": "code",
   "execution_count": 5,
   "id": "edb9370c",
   "metadata": {},
   "outputs": [
    {
     "data": {
      "text/plain": [
       "'LandSat'"
      ]
     },
     "execution_count": 5,
     "metadata": {},
     "output_type": "execute_result"
    }
   ],
   "source": [
    "# Example\n",
    "# So we can index into the dict using the key name, \n",
    "# and it returns the value from that pair!\n",
    "satellites['mission'] "
   ]
  },
  {
   "cell_type": "markdown",
   "id": "962b26dd",
   "metadata": {},
   "source": [
    "We can also access the keys and values separately using either the `.keys()` or `.values()` functions."
   ]
  },
  {
   "cell_type": "code",
   "execution_count": 6,
   "id": "59c0306d",
   "metadata": {},
   "outputs": [
    {
     "data": {
      "text/plain": [
       "dict_keys(['mission', 'launch_year', 'orbital_inclination'])"
      ]
     },
     "execution_count": 6,
     "metadata": {},
     "output_type": "execute_result"
    }
   ],
   "source": [
    "satellites.keys()"
   ]
  },
  {
   "cell_type": "code",
   "execution_count": 7,
   "id": "f1fa9213",
   "metadata": {},
   "outputs": [
    {
     "data": {
      "text/plain": [
       "dict_values(['LandSat', 1972, 99.2])"
      ]
     },
     "execution_count": 7,
     "metadata": {},
     "output_type": "execute_result"
    }
   ],
   "source": [
    "satellites.values()"
   ]
  },
  {
   "cell_type": "markdown",
   "id": "ac14fdbd",
   "metadata": {},
   "source": [
    "We can also iterate over the keys using a loop:"
   ]
  },
  {
   "cell_type": "code",
   "execution_count": 8,
   "id": "5eabd79f",
   "metadata": {},
   "outputs": [
    {
     "name": "stdout",
     "output_type": "stream",
     "text": [
      "mission\n",
      "launch_year\n",
      "orbital_inclination\n"
     ]
    }
   ],
   "source": [
    "for key in satellites.keys():\n",
    "    print(key)"
   ]
  },
  {
   "cell_type": "markdown",
   "id": "078d0f00",
   "metadata": {},
   "source": [
    "And we can do the same only for the values:"
   ]
  },
  {
   "cell_type": "code",
   "execution_count": 9,
   "id": "ec89e165",
   "metadata": {},
   "outputs": [
    {
     "name": "stdout",
     "output_type": "stream",
     "text": [
      "LandSat\n",
      "1972\n",
      "99.2\n"
     ]
    }
   ],
   "source": [
    "for value in satellites.values():\n",
    "    print(value)"
   ]
  },
  {
   "cell_type": "markdown",
   "id": "5c2427e6",
   "metadata": {},
   "source": [
    "We can also iterate over the keys and values in tandem using `.items()`:"
   ]
  },
  {
   "cell_type": "code",
   "execution_count": 10,
   "id": "62212112",
   "metadata": {
    "scrolled": true
   },
   "outputs": [
    {
     "name": "stdout",
     "output_type": "stream",
     "text": [
      "mission LandSat\n",
      "launch_year 1972\n",
      "orbital_inclination 99.2\n"
     ]
    }
   ],
   "source": [
    "for key, value in satellites.items():\n",
    "    print(key, value)"
   ]
  },
  {
   "cell_type": "markdown",
   "id": "a675b648",
   "metadata": {},
   "source": [
    "## Exercise\n",
    "\n",
    "Let's recap on dictionaries.\n",
    "\n",
    "Create a dictionary called `my_dict` and add a key called `my_first_key` and a value called `my_first_value`."
   ]
  },
  {
   "cell_type": "code",
   "execution_count": 11,
   "id": "b669b528",
   "metadata": {},
   "outputs": [
    {
     "data": {
      "text/plain": [
       "{'my_first_key': 'my_first_value'}"
      ]
     },
     "execution_count": 11,
     "metadata": {},
     "output_type": "execute_result"
    }
   ],
   "source": [
    "# create a dictionary\n",
    "my_dict = {}\n",
    "my_dict[\"my_first_key\"] = \"my_first_value\"\n",
    "my_dict"
   ]
  },
  {
   "cell_type": "markdown",
   "id": "d2f33f33",
   "metadata": {},
   "source": [
    "Add a new key called `my_key2` and allocate it the value `my_value2`."
   ]
  },
  {
   "cell_type": "code",
   "execution_count": 12,
   "id": "3e51a9aa",
   "metadata": {},
   "outputs": [
    {
     "data": {
      "text/plain": [
       "{'my_first_key': 'my_first_value', 'my_key2': 'my_value2'}"
      ]
     },
     "execution_count": 12,
     "metadata": {},
     "output_type": "execute_result"
    }
   ],
   "source": [
    "# add a new key-value pair\n",
    "my_dict[\"my_key2\"] = \"my_value2\"\n",
    "my_dict\n"
   ]
  },
  {
   "cell_type": "markdown",
   "id": "0fcae298",
   "metadata": {},
   "source": [
    "Now index `my_value2` and allocate it to a variable called `my_new_variable`: "
   ]
  },
  {
   "cell_type": "code",
   "execution_count": 13,
   "id": "a7ffcd13",
   "metadata": {},
   "outputs": [
    {
     "data": {
      "text/plain": [
       "{'my_first_key': 'my_first_value',\n",
       " 'my_key2': 'my_value2',\n",
       " 'my_new_variable': 'my_value2'}"
      ]
     },
     "execution_count": 13,
     "metadata": {},
     "output_type": "execute_result"
    }
   ],
   "source": [
    "# Enter your attempt here\n",
    "my_dict[\"my_new_variable\"]=\"my_value2\"\n",
    "my_dict"
   ]
  },
  {
   "cell_type": "markdown",
   "id": "f40c1f27",
   "metadata": {},
   "source": [
    "Now print the keys of your dictionary."
   ]
  },
  {
   "cell_type": "code",
   "execution_count": 14,
   "id": "e6275657",
   "metadata": {},
   "outputs": [
    {
     "name": "stdout",
     "output_type": "stream",
     "text": [
      "my_first_key\n",
      "my_key2\n",
      "my_new_variable\n"
     ]
    }
   ],
   "source": [
    "# print key\n",
    "for ky in my_dict.keys():\n",
    "    print(ky)\n"
   ]
  },
  {
   "cell_type": "markdown",
   "id": "b9e1368e",
   "metadata": {},
   "source": [
    "And print the values of your dictionary."
   ]
  },
  {
   "cell_type": "code",
   "execution_count": 15,
   "id": "68d5477f",
   "metadata": {},
   "outputs": [
    {
     "name": "stdout",
     "output_type": "stream",
     "text": [
      "my_first_value\n",
      "my_value2\n",
      "my_value2\n"
     ]
    }
   ],
   "source": [
    "# print values\n",
    "for val in my_dict.values():\n",
    "    print(val)\n"
   ]
  },
  {
   "cell_type": "markdown",
   "id": "ecf36641",
   "metadata": {},
   "source": [
    "Finally, print both the keys and the values using a loop:"
   ]
  },
  {
   "cell_type": "code",
   "execution_count": 16,
   "id": "55a51766",
   "metadata": {},
   "outputs": [
    {
     "name": "stdout",
     "output_type": "stream",
     "text": [
      "my_first_key my_first_value\n",
      "my_key2 my_value2\n",
      "my_new_variable my_value2\n"
     ]
    }
   ],
   "source": [
    "# print both keys and values\n",
    "for key, value in my_dict.items():\n",
    "    print(key, value)"
   ]
  },
  {
   "cell_type": "code",
   "execution_count": null,
   "id": "b3f16fe8-7cdf-4f2f-bba3-9e30c23a8066",
   "metadata": {},
   "outputs": [],
   "source": []
  }
 ],
 "metadata": {
  "kernelspec": {
   "display_name": "Python 3 (ipykernel)",
   "language": "python",
   "name": "python3"
  },
  "language_info": {
   "codemirror_mode": {
    "name": "ipython",
    "version": 3
   },
   "file_extension": ".py",
   "mimetype": "text/x-python",
   "name": "python",
   "nbconvert_exporter": "python",
   "pygments_lexer": "ipython3",
   "version": "3.12.8"
  }
 },
 "nbformat": 4,
 "nbformat_minor": 5
}
