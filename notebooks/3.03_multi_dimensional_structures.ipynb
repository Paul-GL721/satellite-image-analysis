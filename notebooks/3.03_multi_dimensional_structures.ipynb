{
 "cells": [
  {
   "cell_type": "markdown",
   "id": "39e5ce81",
   "metadata": {},
   "source": [
    "# Multidimensional structures"
   ]
  },
  {
   "cell_type": "markdown",
   "id": "6b6bd751",
   "metadata": {},
   "source": [
    "This is a common data structure we will use in satellite image processing.\n",
    "\n",
    "For example, using:\n",
    "\n",
    "    - A list of lists\n",
    "    - A list of tuples\n",
    "    - A list of dicts"
   ]
  },
  {
   "cell_type": "code",
   "execution_count": 1,
   "id": "7c2cf225",
   "metadata": {},
   "outputs": [
    {
     "data": {
      "text/plain": [
       "[['GPS', 'USA'], ['Galileo', 'EU']]"
      ]
     },
     "execution_count": 1,
     "metadata": {},
     "output_type": "execute_result"
    }
   ],
   "source": [
    "# Example\n",
    "# A list of lists: (remember lists of square brackets)\n",
    "\n",
    "navsats_list = [\n",
    "    ['GPS','USA'],\n",
    "    ['Galileo','EU'],\n",
    "]\n",
    "navsats_list"
   ]
  },
  {
   "cell_type": "code",
   "execution_count": 2,
   "id": "c2441eca",
   "metadata": {},
   "outputs": [
    {
     "data": {
      "text/plain": [
       "[('GPS', 'USA'), ('Galileo', 'EU')]"
      ]
     },
     "execution_count": 2,
     "metadata": {},
     "output_type": "execute_result"
    }
   ],
   "source": [
    "# Example:\n",
    "# A list of tuples: (remember tuples use normal parantheses/brackets)\n",
    "\n",
    "navsats_tuples = [\n",
    "    ('GPS','USA'),\n",
    "    ('Galileo','EU'),\n",
    "]\n",
    "navsats_tuples"
   ]
  },
  {
   "cell_type": "code",
   "execution_count": 3,
   "id": "02008615",
   "metadata": {},
   "outputs": [
    {
     "data": {
      "text/plain": [
       "['GPS', 'USA']"
      ]
     },
     "execution_count": 3,
     "metadata": {},
     "output_type": "execute_result"
    }
   ],
   "source": [
    "# Example:\n",
    "# You can index them like normal lists\n",
    "navsats_list[0]"
   ]
  },
  {
   "cell_type": "code",
   "execution_count": 4,
   "id": "fb633719",
   "metadata": {},
   "outputs": [
    {
     "name": "stdout",
     "output_type": "stream",
     "text": [
      "['GPS', 'USA']\n",
      "['Galileo', 'EU']\n"
     ]
    }
   ],
   "source": [
    "# You can also iterate over them like a normal list using a loop:\n",
    "    \n",
    "for i in navsats_list:\n",
    "    print(i)"
   ]
  },
  {
   "cell_type": "markdown",
   "id": "54e0e577",
   "metadata": {},
   "source": [
    "It's the same for the tuple list:"
   ]
  },
  {
   "cell_type": "code",
   "execution_count": 5,
   "id": "ebe71e72",
   "metadata": {},
   "outputs": [
    {
     "data": {
      "text/plain": [
       "('GPS', 'USA')"
      ]
     },
     "execution_count": 5,
     "metadata": {},
     "output_type": "execute_result"
    }
   ],
   "source": [
    "navsats_tuples[0]"
   ]
  },
  {
   "cell_type": "code",
   "execution_count": 6,
   "id": "05867c0b",
   "metadata": {},
   "outputs": [
    {
     "name": "stdout",
     "output_type": "stream",
     "text": [
      "('GPS', 'USA')\n",
      "('Galileo', 'EU')\n"
     ]
    }
   ],
   "source": [
    "# You can also iterate over them like a normal list using a loop:\n",
    "    \n",
    "for i in navsats_tuples:\n",
    "    print(i)"
   ]
  },
  {
   "cell_type": "markdown",
   "id": "bac6f2c1",
   "metadata": {},
   "source": [
    "You can even start to include some logic in the loop:"
   ]
  },
  {
   "cell_type": "code",
   "execution_count": 7,
   "id": "6d61ffc0",
   "metadata": {},
   "outputs": [
    {
     "name": "stdout",
     "output_type": "stream",
     "text": [
      "GPS\n"
     ]
    }
   ],
   "source": [
    "for i in navsats_tuples:  # So we're iterating over our list of tuples using a for loop.\n",
    "    if i[1] == 'USA':     # And placing an if function to see if the first item in each tuple is equal to 'USA'.\n",
    "        print(i[0])       # If it is, we print the constellation name."
   ]
  },
  {
   "cell_type": "markdown",
   "id": "022c0769",
   "metadata": {},
   "source": [
    "## Exercise"
   ]
  },
  {
   "cell_type": "markdown",
   "id": "5b4000e2",
   "metadata": {},
   "source": [
    "Create a list of lists containing the following two lists:\n",
    "\n",
    "    - [1,2]\n",
    "    - [2,3]"
   ]
  },
  {
   "cell_type": "code",
   "execution_count": 8,
   "id": "e5b638c1",
   "metadata": {},
   "outputs": [
    {
     "data": {
      "text/plain": [
       "[[1, 2], [2, 3]]"
      ]
     },
     "execution_count": 8,
     "metadata": {},
     "output_type": "execute_result"
    }
   ],
   "source": [
    "# create a list of lists\n",
    "list1 = [[1,2], [2,3]]\n",
    "list1"
   ]
  },
  {
   "cell_type": "markdown",
   "id": "42ca847f",
   "metadata": {},
   "source": [
    "Append this list to your list of lists:\n",
    "\n",
    "    - [3,4]"
   ]
  },
  {
   "cell_type": "code",
   "execution_count": 9,
   "id": "df5cc1c1",
   "metadata": {},
   "outputs": [
    {
     "data": {
      "text/plain": [
       "[[1, 2], [2, 3], [3, 4]]"
      ]
     },
     "execution_count": 9,
     "metadata": {},
     "output_type": "execute_result"
    }
   ],
   "source": [
    "# append to the list of lists\n",
    "list2 = [3,4]\n",
    "list1.append(list2)\n",
    "list1"
   ]
  },
  {
   "cell_type": "markdown",
   "id": "14dedf8f",
   "metadata": {},
   "source": [
    "Now use a loop to print the content of your list of lists."
   ]
  },
  {
   "cell_type": "code",
   "execution_count": 10,
   "id": "fd6ea19c",
   "metadata": {},
   "outputs": [
    {
     "name": "stdout",
     "output_type": "stream",
     "text": [
      "[1, 2]\n",
      "[2, 3]\n",
      "[3, 4]\n"
     ]
    }
   ],
   "source": [
    "# loop through\n",
    "for i in list1:\n",
    "    print(i)"
   ]
  },
  {
   "cell_type": "markdown",
   "id": "8818f8c9",
   "metadata": {},
   "source": [
    "Create a list of tuples containing the following two tuples:\n",
    "\n",
    "    - (1,2)\n",
    "    - (2,3)"
   ]
  },
  {
   "cell_type": "code",
   "execution_count": 11,
   "id": "c5cace76",
   "metadata": {},
   "outputs": [
    {
     "data": {
      "text/plain": [
       "[(1, 2), (2, 3)]"
      ]
     },
     "execution_count": 11,
     "metadata": {},
     "output_type": "execute_result"
    }
   ],
   "source": [
    "# list of tuples\n",
    "list_of_tuples = [(1,2), (2,3)]\n",
    "list_of_tuples"
   ]
  },
  {
   "cell_type": "markdown",
   "id": "83f42144",
   "metadata": {},
   "source": [
    "Append this tuple to your list of tuples:\n",
    "\n",
    "    - (3,4)"
   ]
  },
  {
   "cell_type": "code",
   "execution_count": 12,
   "id": "983fb32d",
   "metadata": {},
   "outputs": [
    {
     "data": {
      "text/plain": [
       "[(1, 2), (2, 3), (3, 4)]"
      ]
     },
     "execution_count": 12,
     "metadata": {},
     "output_type": "execute_result"
    }
   ],
   "source": [
    "# appending\n",
    "tuple1 = (3,4)\n",
    "list_of_tuples.append(tuple1)\n",
    "list_of_tuples"
   ]
  },
  {
   "cell_type": "markdown",
   "id": "2d8520e2",
   "metadata": {},
   "source": [
    "Now use a loop to print the content of your list of tuples."
   ]
  },
  {
   "cell_type": "code",
   "execution_count": 13,
   "id": "61cfeed9",
   "metadata": {},
   "outputs": [
    {
     "name": "stdout",
     "output_type": "stream",
     "text": [
      "(1, 2)\n",
      "(2, 3)\n",
      "(3, 4)\n"
     ]
    }
   ],
   "source": [
    "# looping\n",
    "for i in list_of_tuples:\n",
    "    print(i)\n"
   ]
  },
  {
   "cell_type": "code",
   "execution_count": null,
   "id": "194e79f9-b6b0-442d-90e8-a392094f9597",
   "metadata": {},
   "outputs": [],
   "source": []
  }
 ],
 "metadata": {
  "kernelspec": {
   "display_name": "Python 3 (ipykernel)",
   "language": "python",
   "name": "python3"
  },
  "language_info": {
   "codemirror_mode": {
    "name": "ipython",
    "version": 3
   },
   "file_extension": ".py",
   "mimetype": "text/x-python",
   "name": "python",
   "nbconvert_exporter": "python",
   "pygments_lexer": "ipython3",
   "version": "3.12.8"
  }
 },
 "nbformat": 4,
 "nbformat_minor": 5
}
