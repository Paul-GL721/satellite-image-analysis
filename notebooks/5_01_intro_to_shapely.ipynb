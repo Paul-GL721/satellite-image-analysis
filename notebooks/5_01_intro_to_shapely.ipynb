{
 "cells": [
  {
   "cell_type": "markdown",
   "id": "3823fe46",
   "metadata": {},
   "source": [
    "# Intro to `Shapely` geometry objects\n",
    "\n",
    "Satellite data assets represent a specific spatial context in imagery form. \n",
    "\n",
    "Such assets are used for a wide range of applications, including most commonly the extraction of objects that are useful for identification purposes (roads, buildings etc. etc.).  \n",
    "\n",
    "Therefore, we need to cover some basic spatial understanding of geometries (e.g. points, linestrings, polygons etc.).\n"
   ]
  },
  {
   "cell_type": "markdown",
   "id": "4de6ef4f",
   "metadata": {},
   "source": [
    "## Exercise 1\n",
    "\n",
    "Go into your `satellite-image-analysis` folder and navigate to the folder `shapes`\n",
    "\n",
    "(most probably somewhere like this if you cloned this repository to your desktop`~User/Desktop/satellite-image-analysis/shapes`).\n",
    "\n",
    "- Load in `opencellid_ETH.shp` which contains a set of point crowdsourced cell locations triangulated from cellphone data (for Adsis Adaba). \n",
    "- Load in `afterfiber_ETH.shp` which contains fiber optic network route linestrings for ETH (the iso3 code for Ethiopia). \n",
    "- Load in `gadm_ETH.shp` which contains level 1 region polygons for ETH from the Global Database of Administrative Areas. \n",
    "\n",
    "Explore the data spatially. If using QGIS you can install and add QuickMapServices to add an OpenStreetMap (OSM) backdrop for context.  \n",
    "\n",
    "Right click to inspect the properties of each layer. \n",
    "\n",
    "Critically review the differences between points, linestrings and boundaries. \n"
   ]
  },
  {
   "cell_type": "markdown",
   "id": "a9bfaa81",
   "metadata": {},
   "source": [
    "Next we want to understand how to produce, load, manage, export etc. geometries in Python via our Jupyter Notebook.\n",
    "\n",
    "In Python, one of the main ways to handle geometry objects is via the package `Shapely`, which has a specific spatial model for handing different types of geometric objects. \n",
    "\n",
    "*The fundamental types of geometric objects implemented by Shapely are points, curves, and surfaces. Each is associated with three sets of (possibly infinite) points in the plane.* \n",
    "\n",
    "(Note: points, curves, and surfaces are analogous to points, linestrings, and polygons, as termed in the exercise)\n",
    "\n",
    "Once we've created our geometry objects, `Shapely` will allow us to:\n",
    "\n",
    "- Assess relationships between different things (e.g. geometric objects)\n",
    "     - contains, intersection, touching, overlapping\n",
    "- Carry out operations between different things (e.g. geometric objects)  \n",
    "     - constructive (buffer, convex hull) and set-theoretic operations (intersection, union, etc.)\n",
    "     \n",
    "See here for more info: https://shapely.readthedocs.io/en/stable/manual.html\n"
   ]
  },
  {
   "cell_type": "markdown",
   "id": "082a2eee",
   "metadata": {},
   "source": [
    "## Points\n",
    "\n",
    "According to `Shapely`: *A Point has an interior set of exactly one point, a boundary set of exactly no points, and an exterior set of all other points. A Point has a topological dimension of 0.*\n",
    "\n",
    "An easier way to think of a point is as a mere set of coordinates:\n",
    "\n",
    "    - (1, 3)\n",
    "    - (4.34, 9.12)\n",
    "    - (0.10204, -1.09279)\n",
    "\n",
    "`Shapely` enables us to create these as a `Shapely` object\n"
   ]
  },
  {
   "cell_type": "markdown",
   "id": "1ff37904",
   "metadata": {},
   "source": [
    "First, let's install `Shapely` into our current environment. "
   ]
  },
  {
   "cell_type": "code",
   "execution_count": 1,
   "id": "7fb17fbf",
   "metadata": {},
   "outputs": [
    {
     "name": "stdout",
     "output_type": "stream",
     "text": [
      "Collecting package metadata (current_repodata.json): ...working... done\n",
      "Solving environment: ...working... done\n",
      "\n",
      "# All requested packages already installed.\n",
      "\n"
     ]
    },
    {
     "name": "stderr",
     "output_type": "stream",
     "text": [
      "\n",
      "\n",
      "==> WARNING: A newer version of conda exists. <==\n",
      "  current version: 23.1.0\n",
      "  latest version: 23.7.4\n",
      "\n",
      "Please update conda by running\n",
      "\n",
      "    $ conda update -n base -c defaults conda\n",
      "\n",
      "Or to minimize the number of packages updated during conda update use\n",
      "\n",
      "     conda install conda=23.7.4\n",
      "\n",
      "\n"
     ]
    }
   ],
   "source": [
    "# Example\n",
    "import sys\n",
    "!conda install --yes --prefix {sys.prefix} shapely"
   ]
  },
  {
   "cell_type": "markdown",
   "id": "d7472f36",
   "metadata": {},
   "source": [
    "Next, let us load from `Shapely` the `Point` function, which enables us to create point geometry objects."
   ]
  },
  {
   "cell_type": "code",
   "execution_count": 1,
   "id": "41284895",
   "metadata": {},
   "outputs": [
    {
     "name": "stdout",
     "output_type": "stream",
     "text": [
      "POINT (1.15 2.43)\n"
     ]
    }
   ],
   "source": [
    "# Example\n",
    "from shapely.geometry import Point\n",
    "my_point = Point(1.15, 2.43)\n",
    "print(my_point)"
   ]
  },
  {
   "cell_type": "markdown",
   "id": "b5459b71",
   "metadata": {},
   "source": [
    "In `Jupyter`, we can also view the point in geographic space, which might help you understand the differences between points, lines and polygons more easily."
   ]
  },
  {
   "cell_type": "code",
   "execution_count": 2,
   "id": "3b0b1285",
   "metadata": {},
   "outputs": [
    {
     "data": {
      "image/svg+xml": [
       "<svg xmlns=\"http://www.w3.org/2000/svg\" xmlns:xlink=\"http://www.w3.org/1999/xlink\" width=\"100.0\" height=\"100.0\" viewBox=\"0.1499999999999999 1.4300000000000002 2.0 2.0\" preserveAspectRatio=\"xMinYMin meet\"><g transform=\"matrix(1,0,0,-1,0,4.86)\"><circle cx=\"1.15\" cy=\"2.43\" r=\"0.06\" stroke=\"#555555\" stroke-width=\"0.02\" fill=\"#66cc99\" opacity=\"0.6\" /></g></svg>"
      ],
      "text/plain": [
       "<POINT (1.15 2.43)>"
      ]
     },
     "execution_count": 2,
     "metadata": {},
     "output_type": "execute_result"
    }
   ],
   "source": [
    "# Example\n",
    "my_point = Point(1.15, 2.43)\n",
    "my_point"
   ]
  },
  {
   "cell_type": "markdown",
   "id": "adedd965",
   "metadata": {},
   "source": [
    "`Shapely` also allows us to check what type of geometry we have specified our object to be, using the `.geom_type` function (geom is short for geometry)."
   ]
  },
  {
   "cell_type": "code",
   "execution_count": 3,
   "id": "1391df4c",
   "metadata": {},
   "outputs": [
    {
     "data": {
      "text/plain": [
       "'Point'"
      ]
     },
     "execution_count": 3,
     "metadata": {},
     "output_type": "execute_result"
    }
   ],
   "source": [
    "# Example\n",
    "my_point.geom_type"
   ]
  },
  {
   "cell_type": "markdown",
   "id": "cdbda1bf",
   "metadata": {},
   "source": [
    "We can use this function repeatedly, to make lots of different `Shapely` geometry objects (let's try create `my_point2` from the coordinate x=2 and y=3):"
   ]
  },
  {
   "cell_type": "code",
   "execution_count": 4,
   "id": "16bfe6ad",
   "metadata": {},
   "outputs": [
    {
     "name": "stdout",
     "output_type": "stream",
     "text": [
      "POINT (2 3)\n"
     ]
    }
   ],
   "source": [
    "# Example\n",
    "my_point2 = Point(2, 3)\n",
    "print(my_point2)"
   ]
  },
  {
   "cell_type": "markdown",
   "id": "2f9ec563",
   "metadata": {},
   "source": [
    "Now we have two different points, we can used `Shapely` to do very usful things, like measure the distance between them using the `.distance()` function."
   ]
  },
  {
   "cell_type": "code",
   "execution_count": 5,
   "id": "8cb6554d",
   "metadata": {},
   "outputs": [
    {
     "data": {
      "text/plain": [
       "1.0234256201600582"
      ]
     },
     "execution_count": 5,
     "metadata": {},
     "output_type": "execute_result"
    }
   ],
   "source": [
    "# Example\n",
    "dist = my_point.distance(my_point2)\n",
    "dist"
   ]
  },
  {
   "cell_type": "markdown",
   "id": "902d878c",
   "metadata": {},
   "source": [
    "Although `Shapely` does a lot, the thing to remember is that it treats all geometry objects as being in the same coordinate reference system. So you need to remember that, otherwise you may produce erroneous results (e.g., the distance between a point in epsg:4326 and a point in WGS epsg:3857, will be completely wrong, as you're mixing coordinates measured in decimel degrees and meters). "
   ]
  },
  {
   "cell_type": "markdown",
   "id": "ac97de31",
   "metadata": {},
   "source": [
    "Importantly, a `Point`, as just a single coordinate, will have zero area and zero length:"
   ]
  },
  {
   "cell_type": "code",
   "execution_count": 6,
   "id": "ab521682",
   "metadata": {},
   "outputs": [
    {
     "name": "stdout",
     "output_type": "stream",
     "text": [
      "0.0 0.0\n"
     ]
    }
   ],
   "source": [
    "# Example\n",
    "print(my_point.area, my_point.length)"
   ]
  },
  {
   "cell_type": "markdown",
   "id": "80b4d25f",
   "metadata": {},
   "source": [
    "Moreover, the x-y bounding box with be a tuple containing `minx`, `miny`, `maxx` and `maxy`. "
   ]
  },
  {
   "cell_type": "code",
   "execution_count": 7,
   "id": "d18d26af",
   "metadata": {},
   "outputs": [
    {
     "name": "stdout",
     "output_type": "stream",
     "text": [
      "(1.15, 2.43, 1.15, 2.43)\n"
     ]
    }
   ],
   "source": [
    "# Example\n",
    "print(my_point.bounds)"
   ]
  },
  {
   "cell_type": "markdown",
   "id": "e8107f55",
   "metadata": {},
   "source": [
    "If we need to, we can still access the underlying coordinates from our `Shapley` geometry object."
   ]
  },
  {
   "cell_type": "code",
   "execution_count": 8,
   "id": "1fcd4abe",
   "metadata": {},
   "outputs": [
    {
     "name": "stdout",
     "output_type": "stream",
     "text": [
      "<shapely.coords.CoordinateSequence object at 0x10768c350>\n",
      "[(1.15, 2.43)]\n"
     ]
    }
   ],
   "source": [
    "#Example \n",
    "print(my_point.coords) # Shaple geometry object\n",
    "print(list(my_point.coords)) # List of Shapely coordinates"
   ]
  },
  {
   "cell_type": "markdown",
   "id": "043b8a11",
   "metadata": {},
   "source": [
    "## Exercise 2\n",
    "\n",
    "Now let us put this knowledge to work. \n",
    "\n",
    "Create a new set of points with the following coordinates, and print the geometry objects:\n",
    "\n",
    "    - x = 4, y = 8 (p1)\n",
    "    - x = 2, y = 4 (p2)"
   ]
  },
  {
   "cell_type": "code",
   "execution_count": 10,
   "id": "a0f07ab5",
   "metadata": {},
   "outputs": [
    {
     "data": {
      "image/svg+xml": [
       "<svg xmlns=\"http://www.w3.org/2000/svg\" xmlns:xlink=\"http://www.w3.org/1999/xlink\" width=\"100.0\" height=\"100.0\" viewBox=\"1.0 3.0 2.0 2.0\" preserveAspectRatio=\"xMinYMin meet\"><g transform=\"matrix(1,0,0,-1,0,8.0)\"><circle cx=\"2.0\" cy=\"4.0\" r=\"0.06\" stroke=\"#555555\" stroke-width=\"0.02\" fill=\"#66cc99\" opacity=\"0.6\" /></g></svg>"
      ],
      "text/plain": [
       "<POINT (2 4)>"
      ]
     },
     "execution_count": 10,
     "metadata": {},
     "output_type": "execute_result"
    }
   ],
   "source": [
    "#creating points with shapely:\n",
    "p1 = Point(4, 8)\n",
    "p2 = Point(2, 4)\n",
    "p1\n",
    "p2"
   ]
  },
  {
   "cell_type": "markdown",
   "id": "a7bfb4ee",
   "metadata": {},
   "source": [
    "Check the geometry types of your object:"
   ]
  },
  {
   "cell_type": "code",
   "execution_count": 11,
   "id": "83989a3c",
   "metadata": {},
   "outputs": [
    {
     "name": "stdout",
     "output_type": "stream",
     "text": [
      "p1 type is Point while p2 type is Point\n"
     ]
    }
   ],
   "source": [
    "#check type:\n",
    "p1type = p1.geom_type\n",
    "p2type = p2.geom_type\n",
    "print(f'p1 type is {p1type} while p2 type is {p2type}')"
   ]
  },
  {
   "cell_type": "markdown",
   "id": "0d7f1662",
   "metadata": {},
   "source": [
    "Can you confirm the area and length of your points?"
   ]
  },
  {
   "cell_type": "code",
   "execution_count": 12,
   "id": "1ad1df78",
   "metadata": {},
   "outputs": [
    {
     "name": "stdout",
     "output_type": "stream",
     "text": [
      "The area of pl is 0.0 and that of p2 is 0.0\n"
     ]
    }
   ],
   "source": [
    "#area of points:\n",
    "p1area = p1.area\n",
    "p2area = p2.area\n",
    "print(f'The area of pl is {p1area} and that of p2 is {p2area}')\n"
   ]
  },
  {
   "cell_type": "markdown",
   "id": "717d407e",
   "metadata": {},
   "source": [
    "Now try measure the distance between your two points:"
   ]
  },
  {
   "cell_type": "code",
   "execution_count": 13,
   "id": "a924d7ae",
   "metadata": {},
   "outputs": [
    {
     "name": "stdout",
     "output_type": "stream",
     "text": [
      "The distance between p1 and p2 is 4.47213595499958\n"
     ]
    }
   ],
   "source": [
    "#distance:\n",
    "dist_btn_p1p2 = p1.distance(p2)\n",
    "print(f'The distance between p1 and p2 is {dist_btn_p1p2}')"
   ]
  },
  {
   "cell_type": "markdown",
   "id": "956cd5a0",
   "metadata": {},
   "source": [
    "Print the bounds of the two point and inspect the results:"
   ]
  },
  {
   "cell_type": "code",
   "execution_count": 14,
   "id": "4e3d7d2b",
   "metadata": {},
   "outputs": [
    {
     "name": "stdout",
     "output_type": "stream",
     "text": [
      "p1 bounds are (4.0, 8.0, 4.0, 8.0) and p2 bounds are (2.0, 4.0, 2.0, 4.0)\n"
     ]
    }
   ],
   "source": [
    "#bounds:\n",
    "print(f'p1 bounds are {p1.bounds} and p2 bounds are {p2.bounds}')"
   ]
  },
  {
   "cell_type": "markdown",
   "id": "0a482d1d",
   "metadata": {},
   "source": [
    "## Lines\n",
    "\n",
    "More precisely named 'linestrings', these objects contain at least two points.\n",
    "\n",
    "`Shapely` states: \n",
    "\n",
    "*The constructed LineString object represents one or more connected linear splines between the points. Repeated points in the ordered sequence are allowed, but may incur performance penalties and should be avoided. A LineString may cross itself (i.e. be complex and not simple).*\n",
    "\n",
    "Let's have a go at creating our first `linestring`:"
   ]
  },
  {
   "cell_type": "code",
   "execution_count": 15,
   "id": "a15ff8f2",
   "metadata": {},
   "outputs": [
    {
     "data": {
      "image/svg+xml": [
       "<svg xmlns=\"http://www.w3.org/2000/svg\" xmlns:xlink=\"http://www.w3.org/1999/xlink\" width=\"100.0\" height=\"100.0\" viewBox=\"1.96 2.96 1.08 1.08\" preserveAspectRatio=\"xMinYMin meet\"><g transform=\"matrix(1,0,0,-1,0,7.0)\"><polyline fill=\"none\" stroke=\"#66cc99\" stroke-width=\"0.0216\" points=\"2.0,3.0 3.0,4.0\" opacity=\"0.8\" /></g></svg>"
      ],
      "text/plain": [
       "<LINESTRING (2 3, 3 4)>"
      ]
     },
     "execution_count": 15,
     "metadata": {},
     "output_type": "execute_result"
    }
   ],
   "source": [
    "# Example\n",
    "from shapely import LineString\n",
    "my_line = LineString([(2,3), (3, 4)])\n",
    "my_line"
   ]
  },
  {
   "cell_type": "markdown",
   "id": "4439be6b",
   "metadata": {},
   "source": [
    "Let's confirm that:"
   ]
  },
  {
   "cell_type": "code",
   "execution_count": 16,
   "id": "a51a9f76",
   "metadata": {},
   "outputs": [
    {
     "data": {
      "text/plain": [
       "'LineString'"
      ]
     },
     "execution_count": 16,
     "metadata": {},
     "output_type": "execute_result"
    }
   ],
   "source": [
    "# Example\n",
    "my_line.geom_type"
   ]
  },
  {
   "cell_type": "markdown",
   "id": "95f54354",
   "metadata": {},
   "source": [
    "We have similar functionality to the `Point` objects we played with previously. \n",
    "\n",
    "For example, a line with have a zero area:"
   ]
  },
  {
   "cell_type": "code",
   "execution_count": 17,
   "id": "f38b25e6",
   "metadata": {},
   "outputs": [
    {
     "data": {
      "text/plain": [
       "0.0"
      ]
     },
     "execution_count": 17,
     "metadata": {},
     "output_type": "execute_result"
    }
   ],
   "source": [
    "# Example\n",
    "my_line.area"
   ]
  },
  {
   "cell_type": "markdown",
   "id": "14fc2b4a",
   "metadata": {},
   "source": [
    "But in contrast, a line will have a clear length:"
   ]
  },
  {
   "cell_type": "code",
   "execution_count": 18,
   "id": "3ffddcbd",
   "metadata": {},
   "outputs": [
    {
     "data": {
      "text/plain": [
       "1.4142135623730951"
      ]
     },
     "execution_count": 18,
     "metadata": {},
     "output_type": "execute_result"
    }
   ],
   "source": [
    "# Example\n",
    "my_line.length # Your units depend on the coordinate reference system!"
   ]
  },
  {
   "cell_type": "markdown",
   "id": "e19672fe",
   "metadata": {},
   "source": [
    "And a line has the following bounds:"
   ]
  },
  {
   "cell_type": "code",
   "execution_count": 19,
   "id": "14665cd6",
   "metadata": {},
   "outputs": [
    {
     "data": {
      "text/plain": [
       "(2.0, 3.0, 3.0, 4.0)"
      ]
     },
     "execution_count": 19,
     "metadata": {},
     "output_type": "execute_result"
    }
   ],
   "source": [
    "# Example\n",
    "my_line.bounds"
   ]
  },
  {
   "cell_type": "markdown",
   "id": "c111dad7",
   "metadata": {},
   "source": [
    "Finally, we can access the coordinates within our `Shapely` object easily:"
   ]
  },
  {
   "cell_type": "code",
   "execution_count": 20,
   "id": "dc93d097",
   "metadata": {},
   "outputs": [
    {
     "name": "stdout",
     "output_type": "stream",
     "text": [
      "[(2.0, 3.0), (3.0, 4.0)]\n"
     ]
    }
   ],
   "source": [
    "# Example\n",
    "print(list(my_line.coords))"
   ]
  },
  {
   "cell_type": "markdown",
   "id": "7fd2ea4e",
   "metadata": {},
   "source": [
    "## Exercise 3\n",
    "\n",
    "Now let us implement what we learned in this section on lines.\n",
    "\n",
    "Create lines using the following coordinates:\n",
    "\n",
    "    - x1=2, y1=2, x2=4, y2=4, x3=2.5, y3=3.5 (simple_line)\n",
    "    - x1=4, y1=4, x2=2, y2=2, x3=2.5, y3=3.5, x4=4, y4=2 (complex_line)\n"
   ]
  },
  {
   "cell_type": "code",
   "execution_count": 23,
   "id": "16f0c56d",
   "metadata": {},
   "outputs": [
    {
     "data": {
      "image/svg+xml": [
       "<svg xmlns=\"http://www.w3.org/2000/svg\" xmlns:xlink=\"http://www.w3.org/1999/xlink\" width=\"100.0\" height=\"100.0\" viewBox=\"1.92 1.92 2.16 1.6600000000000001\" preserveAspectRatio=\"xMinYMin meet\"><g transform=\"matrix(1,0,0,-1,0,5.5)\"><polyline fill=\"none\" stroke=\"#66cc99\" stroke-width=\"0.0432\" points=\"4.0,2.0 2.0,2.0 2.5,3.5 4.0,2.0\" opacity=\"0.8\" /></g></svg>"
      ],
      "text/plain": [
       "<LINESTRING (4 2, 2 2, 2.5 3.5, 4 2)>"
      ]
     },
     "execution_count": 23,
     "metadata": {},
     "output_type": "execute_result"
    }
   ],
   "source": [
    "#create lines:\n",
    "simple_line = LineString([(2, 2),(4, 4), (2.5, 3.5)])\n",
    "complex_line = LineString([(4, 2),(2, 2), (2.5, 3.5), (4, 2)])\n",
    "simple_line\n",
    "complex_line"
   ]
  },
  {
   "cell_type": "markdown",
   "id": "b90ad7a7",
   "metadata": {},
   "source": [
    "Find the area and length of these two lines and print the results:\n",
    "    "
   ]
  },
  {
   "cell_type": "code",
   "execution_count": 25,
   "id": "0f696011",
   "metadata": {},
   "outputs": [
    {
     "name": "stdout",
     "output_type": "stream",
     "text": [
      "The area and length of the simple_line are 0.0 and 4.40956595483038 respectively while the area and length of the complex_line are 0.0 and 5.702459173643833 respectively\n"
     ]
    }
   ],
   "source": [
    "#area and lengths:\n",
    "print(f'The area and length of the simple_line are {simple_line.area} and {simple_line.length} respectively while the area and length of the complex_line are {complex_line.area} and {complex_line.length} respectively')"
   ]
  },
  {
   "cell_type": "markdown",
   "id": "2f97e530",
   "metadata": {},
   "source": [
    "Find the bounds of these two lines and print the results:"
   ]
  },
  {
   "cell_type": "code",
   "execution_count": 26,
   "id": "d7ede200",
   "metadata": {},
   "outputs": [
    {
     "name": "stdout",
     "output_type": "stream",
     "text": [
      "The bounds of the simple_line are (2.0, 2.0, 4.0, 4.0) and the bounds of the complex_line are (2.0, 2.0, 4.0, 3.5)\n"
     ]
    }
   ],
   "source": [
    "#bounds:\n",
    "print(f'The bounds of the simple_line are {simple_line.bounds} and the bounds of the complex_line are {complex_line.bounds}')\n"
   ]
  },
  {
   "cell_type": "markdown",
   "id": "9fd05575",
   "metadata": {},
   "source": [
    "## Polygons"
   ]
  },
  {
   "cell_type": "markdown",
   "id": "54e25c24",
   "metadata": {},
   "source": [
    "A polygon can be thought of practically as a collection of tuple points forming a closed shape. \n",
    "\n",
    "For example, in geometry:\n",
    "\n",
    "*...a polygon is a plane figure that is described by a finite number of straight line segments connected to form a closed polygonal chain*\n",
    "\n",
    "In `Shapely`, a `Polygon` function is:\n",
    "\n",
    "*A constructor taking two positional parameters. The first is an ordered sequence of (x, y[, z]) point tuples and is treated exactly as in the LinearRing case. The second is an optional unordered sequence of ring-like sequences specifying the interior boundaries or “holes” of the feature.*\n",
    "\n",
    "Let's explore what this means further using the `Polygon` `Shapely` function:\n"
   ]
  },
  {
   "cell_type": "code",
   "execution_count": 27,
   "id": "adb6f022",
   "metadata": {},
   "outputs": [
    {
     "data": {
      "image/svg+xml": [
       "<svg xmlns=\"http://www.w3.org/2000/svg\" xmlns:xlink=\"http://www.w3.org/1999/xlink\" width=\"100.0\" height=\"100.0\" viewBox=\"1.96 1.96 1.08 1.08\" preserveAspectRatio=\"xMinYMin meet\"><g transform=\"matrix(1,0,0,-1,0,5.0)\"><path fill-rule=\"evenodd\" fill=\"#66cc99\" stroke=\"#555555\" stroke-width=\"0.0216\" opacity=\"0.6\" d=\"M 2.0,2.0 L 3.0,3.0 L 2.0,3.0 L 2.0,2.0 z\" /></g></svg>"
      ],
      "text/plain": [
       "<POLYGON ((2 2, 3 3, 2 3, 2 2))>"
      ]
     },
     "execution_count": 27,
     "metadata": {},
     "output_type": "execute_result"
    }
   ],
   "source": [
    "# Example\n",
    "from shapely import Polygon\n",
    "my_polygon = Polygon([(2,2), (3, 3), (2, 3), (2,2)])\n",
    "my_polygon"
   ]
  },
  {
   "cell_type": "markdown",
   "id": "5ca9393a",
   "metadata": {},
   "source": [
    "Let's confirm that:"
   ]
  },
  {
   "cell_type": "code",
   "execution_count": 28,
   "id": "20bdba9f",
   "metadata": {},
   "outputs": [
    {
     "data": {
      "text/plain": [
       "'Polygon'"
      ]
     },
     "execution_count": 28,
     "metadata": {},
     "output_type": "execute_result"
    }
   ],
   "source": [
    "# Example\n",
    "my_polygon.geom_type"
   ]
  },
  {
   "cell_type": "markdown",
   "id": "f34fea0b",
   "metadata": {},
   "source": [
    "We can also view this shape within `jupyter` as follows:"
   ]
  },
  {
   "cell_type": "code",
   "execution_count": 29,
   "id": "2d032cc8",
   "metadata": {},
   "outputs": [
    {
     "data": {
      "image/svg+xml": [
       "<svg xmlns=\"http://www.w3.org/2000/svg\" xmlns:xlink=\"http://www.w3.org/1999/xlink\" width=\"100.0\" height=\"100.0\" viewBox=\"1.96 1.96 1.08 1.08\" preserveAspectRatio=\"xMinYMin meet\"><g transform=\"matrix(1,0,0,-1,0,5.0)\"><path fill-rule=\"evenodd\" fill=\"#66cc99\" stroke=\"#555555\" stroke-width=\"0.0216\" opacity=\"0.6\" d=\"M 2.0,2.0 L 3.0,3.0 L 2.0,3.0 L 2.0,2.0 z\" /></g></svg>"
      ],
      "text/plain": [
       "<POLYGON ((2 2, 3 3, 2 3, 2 2))>"
      ]
     },
     "execution_count": 29,
     "metadata": {},
     "output_type": "execute_result"
    }
   ],
   "source": [
    "# Example\n",
    "my_polygon # See how 3 is the minimum number of lines provided"
   ]
  },
  {
   "cell_type": "markdown",
   "id": "a7c4a556",
   "metadata": {},
   "source": [
    "We can then explore the (non-zero) area of our polygon using `.area`:"
   ]
  },
  {
   "cell_type": "code",
   "execution_count": 30,
   "id": "9b85c5c9",
   "metadata": {},
   "outputs": [
    {
     "name": "stdout",
     "output_type": "stream",
     "text": [
      "0.5\n"
     ]
    }
   ],
   "source": [
    "# Example\n",
    "area = my_polygon.area\n",
    "print(area)"
   ]
  },
  {
   "cell_type": "markdown",
   "id": "c4460e0a",
   "metadata": {},
   "source": [
    "And the (non-zero) length too using `.length`:"
   ]
  },
  {
   "cell_type": "code",
   "execution_count": 31,
   "id": "eed5c8f2",
   "metadata": {},
   "outputs": [
    {
     "name": "stdout",
     "output_type": "stream",
     "text": [
      "3.414213562373095\n"
     ]
    }
   ],
   "source": [
    "# Example\n",
    "length = my_polygon.length\n",
    "print(length)"
   ]
  },
  {
   "cell_type": "markdown",
   "id": "312cfe24",
   "metadata": {},
   "source": [
    "It is also possible to obtain the outer bounds of our polygon using `.bounds`:"
   ]
  },
  {
   "cell_type": "code",
   "execution_count": 32,
   "id": "08822032",
   "metadata": {},
   "outputs": [
    {
     "name": "stdout",
     "output_type": "stream",
     "text": [
      "(2.0, 2.0, 3.0, 3.0)\n"
     ]
    }
   ],
   "source": [
    "# Example\n",
    "bounds = my_polygon.bounds\n",
    "print(bounds)"
   ]
  },
  {
   "cell_type": "markdown",
   "id": "01bf969d",
   "metadata": {},
   "source": [
    "We can also make a polygon with internal polygons too.\n",
    "\n",
    "Note how this time when we use the `Polygon` function, we supply the exterior list, followed by the interior coordinates as a list of lists:"
   ]
  },
  {
   "cell_type": "code",
   "execution_count": 33,
   "id": "15b9556e",
   "metadata": {},
   "outputs": [
    {
     "data": {
      "image/svg+xml": [
       "<svg xmlns=\"http://www.w3.org/2000/svg\" xmlns:xlink=\"http://www.w3.org/1999/xlink\" width=\"100.0\" height=\"100.0\" viewBox=\"-0.08 -0.08 2.16 2.16\" preserveAspectRatio=\"xMinYMin meet\"><g transform=\"matrix(1,0,0,-1,0,2.0)\"><path fill-rule=\"evenodd\" fill=\"#66cc99\" stroke=\"#555555\" stroke-width=\"0.0432\" opacity=\"0.6\" d=\"M 0.0,0.0 L 0.0,2.0 L 2.0,2.0 L 2.0,0.0 L 0.0,0.0 z M 1.0,0.0 L 1.5,0.5 L 1.0,1.0 L 0.5,0.5 L 1.0,0.0 z\" /></g></svg>"
      ],
      "text/plain": [
       "<POLYGON ((0 0, 0 2, 2 2, 2 0, 0 0), (1 0, 1.5 0.5, 1 1, 0.5 0.5, 1 0))>"
      ]
     },
     "execution_count": 33,
     "metadata": {},
     "output_type": "execute_result"
    }
   ],
   "source": [
    "exterior = [(0, 0), (0, 2), (2, 2), (2, 0), (0, 0)]\n",
    "interior = [(1, 0), (0.5, 0.5), (1, 1), (1.5, 0.5), (1, 0)][::-1]\n",
    "my_polygon2 = Polygon(exterior, [interior])\n",
    "my_polygon2"
   ]
  },
  {
   "cell_type": "markdown",
   "id": "06808443",
   "metadata": {},
   "source": [
    "We can then access the interior coordinates as we please: "
   ]
  },
  {
   "cell_type": "code",
   "execution_count": 34,
   "id": "9da715cf",
   "metadata": {},
   "outputs": [
    {
     "data": {
      "text/plain": [
       "[<LINEARRING (1 0, 1.5 0.5, 1 1, 0.5 0.5, 1 0)>]"
      ]
     },
     "execution_count": 34,
     "metadata": {},
     "output_type": "execute_result"
    }
   ],
   "source": [
    "# Example\n",
    "list(my_polygon2.interiors) #this is a Shapely object in a list"
   ]
  },
  {
   "cell_type": "code",
   "execution_count": 35,
   "id": "04fa2ca0",
   "metadata": {},
   "outputs": [
    {
     "data": {
      "image/svg+xml": [
       "<svg xmlns=\"http://www.w3.org/2000/svg\" xmlns:xlink=\"http://www.w3.org/1999/xlink\" width=\"100.0\" height=\"100.0\" viewBox=\"0.46 -0.04 1.08 1.08\" preserveAspectRatio=\"xMinYMin meet\"><g transform=\"matrix(1,0,0,-1,0,1.0)\"><polyline fill=\"none\" stroke=\"#66cc99\" stroke-width=\"0.0216\" points=\"1.0,0.0 1.5,0.5 1.0,1.0 0.5,0.5 1.0,0.0\" opacity=\"0.8\" /></g></svg>"
      ],
      "text/plain": [
       "<LINEARRING (1 0, 1.5 0.5, 1 1, 0.5 0.5, 1 0)>"
      ]
     },
     "execution_count": 35,
     "metadata": {},
     "output_type": "execute_result"
    }
   ],
   "source": [
    "# Example\n",
    "list(my_polygon2.interiors)[0] #this is our actual Shapely object"
   ]
  },
  {
   "cell_type": "code",
   "execution_count": 36,
   "id": "a2a940ba",
   "metadata": {},
   "outputs": [
    {
     "data": {
      "text/plain": [
       "[(1.0, 0.0), (1.5, 0.5), (1.0, 1.0), (0.5, 0.5), (1.0, 0.0)]"
      ]
     },
     "execution_count": 36,
     "metadata": {},
     "output_type": "execute_result"
    }
   ],
   "source": [
    "# Example\n",
    "list(my_polygon2.interiors[0].coords) #a list of coordinate tuples"
   ]
  },
  {
   "cell_type": "markdown",
   "id": "4d340e79",
   "metadata": {},
   "source": [
    "Or we can access the exterior coordinates as we please: "
   ]
  },
  {
   "cell_type": "code",
   "execution_count": 37,
   "id": "50cfc513",
   "metadata": {
    "scrolled": true
   },
   "outputs": [
    {
     "data": {
      "text/plain": [
       "[(0.0, 0.0), (0.0, 2.0), (2.0, 2.0), (2.0, 0.0), (0.0, 0.0)]"
      ]
     },
     "execution_count": 37,
     "metadata": {},
     "output_type": "execute_result"
    }
   ],
   "source": [
    "# Example\n",
    "list(my_polygon2.exterior.coords)"
   ]
  },
  {
   "cell_type": "markdown",
   "id": "27f7623f",
   "metadata": {},
   "source": [
    "## Exercise 4\n",
    "\n",
    "We now need to recap on the content introduced for our `Shapely` `Polygon` function.\n",
    "\n",
    "First, create a polygon (called `my_polygon`) with the following tuples:\n",
    "    \n",
    "    - x=1, y=1\n",
    "    - x=1, y=4\n",
    "    - x=4, y=4\n",
    "    - x=4, y=1\n",
    "    - x=1, y=1\n"
   ]
  },
  {
   "cell_type": "code",
   "execution_count": 39,
   "id": "d9bd3a8e",
   "metadata": {},
   "outputs": [
    {
     "data": {
      "image/svg+xml": [
       "<svg xmlns=\"http://www.w3.org/2000/svg\" xmlns:xlink=\"http://www.w3.org/1999/xlink\" width=\"100.0\" height=\"100.0\" viewBox=\"0.88 0.88 3.24 3.24\" preserveAspectRatio=\"xMinYMin meet\"><g transform=\"matrix(1,0,0,-1,0,5.0)\"><path fill-rule=\"evenodd\" fill=\"#66cc99\" stroke=\"#555555\" stroke-width=\"0.06480000000000001\" opacity=\"0.6\" d=\"M 1.0,1.0 L 1.0,4.0 L 4.0,4.0 L 4.0,1.0 L 1.0,1.0 z\" /></g></svg>"
      ],
      "text/plain": [
       "<POLYGON ((1 1, 1 4, 4 4, 4 1, 1 1))>"
      ]
     },
     "execution_count": 39,
     "metadata": {},
     "output_type": "execute_result"
    }
   ],
   "source": [
    "#create polygon:\n",
    "external_coords = [(1, 1), (1, 4), (4, 4), (4, 1), (1, 1)] \n",
    "poly1 = Polygon(external_coords)\n",
    "poly1"
   ]
  },
  {
   "cell_type": "markdown",
   "id": "920f5925",
   "metadata": {},
   "source": [
    "Now get the area of your polygon:"
   ]
  },
  {
   "cell_type": "code",
   "execution_count": 40,
   "id": "4d2f52e9",
   "metadata": {},
   "outputs": [
    {
     "name": "stdout",
     "output_type": "stream",
     "text": [
      "Area of polygon is 9.0\n"
     ]
    }
   ],
   "source": [
    "#get polygon area:\n",
    "area1 = poly1.area\n",
    "print(f'Area of polygon is {area1}')"
   ]
  },
  {
   "cell_type": "markdown",
   "id": "e72d36b0",
   "metadata": {},
   "source": [
    "And the bounds of your polygon:"
   ]
  },
  {
   "cell_type": "code",
   "execution_count": 41,
   "id": "302e365f",
   "metadata": {},
   "outputs": [
    {
     "name": "stdout",
     "output_type": "stream",
     "text": [
      "Bounds of polygon1 are POLYGON ((1 1, 1 4, 4 4, 4 1, 1 1))\n"
     ]
    }
   ],
   "source": [
    "#bounds:\n",
    "print(f'Bounds of polygon1 are {poly1}')"
   ]
  },
  {
   "cell_type": "markdown",
   "id": "8808cbec",
   "metadata": {},
   "source": [
    "Along with the exterior coordinates:"
   ]
  },
  {
   "cell_type": "code",
   "execution_count": 42,
   "id": "a8a60955",
   "metadata": {},
   "outputs": [
    {
     "name": "stdout",
     "output_type": "stream",
     "text": [
      "Exterior coordinates of polygon1 area LINEARRING (1 1, 1 4, 4 4, 4 1, 1 1)\n"
     ]
    }
   ],
   "source": [
    "#exterior coordinates:\n",
    "print(f'Exterior coordinates of polygon1 area {poly1.exterior}')"
   ]
  },
  {
   "cell_type": "markdown",
   "id": "c8c13aad",
   "metadata": {},
   "source": [
    "Secondly, add an inner polygon and call the total object `my_polygon2`, with the following coordinates:\n",
    "    \n",
    "    - x=1.5, y=1.5\n",
    "    - x=1.5, y=3.5\n",
    "    - x=3.5, y=3.5\n",
    "    - x=3.5, y=1.5\n",
    "    - x=1.5, y=1.5"
   ]
  },
  {
   "cell_type": "code",
   "execution_count": 46,
   "id": "8f2b52ad",
   "metadata": {},
   "outputs": [
    {
     "data": {
      "image/svg+xml": [
       "<svg xmlns=\"http://www.w3.org/2000/svg\" xmlns:xlink=\"http://www.w3.org/1999/xlink\" width=\"100.0\" height=\"100.0\" viewBox=\"0.88 0.88 3.24 3.24\" preserveAspectRatio=\"xMinYMin meet\"><g transform=\"matrix(1,0,0,-1,0,5.0)\"><path fill-rule=\"evenodd\" fill=\"#66cc99\" stroke=\"#555555\" stroke-width=\"0.06480000000000001\" opacity=\"0.6\" d=\"M 1.0,1.0 L 1.0,4.0 L 4.0,4.0 L 4.0,1.0 L 1.0,1.0 z M 1.5,1.5 L 1.5,3.5 L 3.5,3.5 L 3.5,1.5 L 1.5,1.5 z\" /></g></svg>"
      ],
      "text/plain": [
       "<POLYGON ((1 1, 1 4, 4 4, 4 1, 1 1), (1.5 1.5, 1.5 3.5, 3.5 3.5, 3.5 1.5, 1....>"
      ]
     },
     "execution_count": 46,
     "metadata": {},
     "output_type": "execute_result"
    }
   ],
   "source": [
    "#inner polygon:\n",
    "interior_coords = [(1.5, 1.5), (1.5, 3.5), (3.5, 3.5), (3.5, 1.5), (1.5, 1.5)]\n",
    "final_poly = Polygon(external_coords, [interior_coords]) \n",
    "final_poly"
   ]
  },
  {
   "cell_type": "markdown",
   "id": "73711f92",
   "metadata": {},
   "source": [
    "And now extract the exterior coordinates from `my_polygon2` and take the area. \n",
    "\n",
    "Hint: You need to extract the exterior coordinates, make a new polygon, and then take the area. "
   ]
  },
  {
   "cell_type": "code",
   "execution_count": 53,
   "id": "a15fa8ac",
   "metadata": {},
   "outputs": [
    {
     "data": {
      "text/plain": [
       "0.0"
      ]
     },
     "execution_count": 53,
     "metadata": {},
     "output_type": "execute_result"
    }
   ],
   "source": [
    "#polygon2:\n",
    "my_polygon2 = Polygon(interior_coords)\n",
    "my_polygon2.exterior"
   ]
  },
  {
   "cell_type": "markdown",
   "id": "46781210",
   "metadata": {},
   "source": [
    "Compare this with the area for the interior coordinates from `my_polygon2`.\n",
    "\n",
    "Hint: You need to extract the interior coordinates, make a new polygon, and then take the area. "
   ]
  },
  {
   "cell_type": "code",
   "execution_count": 58,
   "id": "c2916c68",
   "metadata": {},
   "outputs": [
    {
     "data": {
      "text/plain": [
       "0.0"
      ]
     },
     "execution_count": 58,
     "metadata": {},
     "output_type": "execute_result"
    }
   ],
   "source": [
    "#Enter your attempt below:\n",
    "final_poly.interiors[0].area"
   ]
  },
  {
   "cell_type": "code",
   "execution_count": null,
   "id": "8c9aea57-a625-49ca-b9fc-0350276cfce4",
   "metadata": {},
   "outputs": [],
   "source": []
  }
 ],
 "metadata": {
  "kernelspec": {
   "display_name": "Python 3 (ipykernel)",
   "language": "python",
   "name": "python3"
  },
  "language_info": {
   "codemirror_mode": {
    "name": "ipython",
    "version": 3
   },
   "file_extension": ".py",
   "mimetype": "text/x-python",
   "name": "python",
   "nbconvert_exporter": "python",
   "pygments_lexer": "ipython3",
   "version": "3.12.8"
  }
 },
 "nbformat": 4,
 "nbformat_minor": 5
}
